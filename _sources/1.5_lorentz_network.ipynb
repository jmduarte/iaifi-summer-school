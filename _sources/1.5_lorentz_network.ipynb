{
 "cells": [
  {
   "cell_type": "markdown",
   "metadata": {},
   "source": [
    "Lorentz Network\n",
    "===============================================================\n",
    "\n",
    "Finally we will look at Lorentz-equivariant networks using PyTorch. The architecture is based on the following paper: [Lorentz Group Network](https://arxiv.org/abs/2006.04780)"
   ]
  },
  {
   "cell_type": "code",
   "execution_count": 1,
   "metadata": {},
   "outputs": [],
   "source": [
    "import torch\n",
    "device = torch.device(\"cuda:0\" if torch.cuda.is_available() else \"cpu\")\n",
    "from tqdm.notebook import tqdm\n",
    "import numpy as np"
   ]
  },
  {
   "cell_type": "code",
   "execution_count": 2,
   "metadata": {},
   "outputs": [],
   "source": [
    "import yaml\n",
    "\n",
    "with open('definitions_lgn.yml') as file:\n",
    "    # The FullLoader parameter handles the conversion from YAML\n",
    "    # scalar values to Python the dictionary format\n",
    "    definitions = yaml.load(file, Loader=yaml.FullLoader)\n",
    "    \n",
    "features = definitions['features']\n",
    "spectators = definitions['spectators']\n",
    "labels = definitions['labels']\n",
    "\n",
    "nfeatures = definitions['nfeatures']\n",
    "nspectators = definitions['nspectators']\n",
    "nlabels = definitions['nlabels']\n",
    "ntracks = definitions['ntracks']"
   ]
  },
  {
   "cell_type": "markdown",
   "metadata": {},
   "source": [
    "## Dataset loader\n",
    "Here we have to define the dataset loader. \n",
    "\n"
   ]
  },
  {
   "cell_type": "code",
   "execution_count": 3,
   "metadata": {},
   "outputs": [
    {
     "data": {
      "application/vnd.jupyter.widget-view+json": {
       "model_id": "e114981b56c440d2bdb05313c9629591",
       "version_major": 2,
       "version_minor": 0
      },
      "text/plain": [
       "  0%|          | 0/2000 [00:00<?, ?it/s]"
      ]
     },
     "metadata": {},
     "output_type": "display_data"
    },
    {
     "name": "stderr",
     "output_type": "stream",
     "text": [
      "/Users/drankin/Documents/iaifi-summer-school/book/LGNDataset.py:109: UserWarning: Creating a tensor from a list of numpy.ndarrays is extremely slow. Please consider converting the list to a single numpy.ndarray with numpy.array() before converting to a tensor. (Triggered internally at  /Users/distiller/project/conda/conda-bld/pytorch_1646756029501/work/torch/csrc/utils/tensor_new.cpp:210.)\n",
      "  x = torch.tensor(fourvec, dtype=torch.float).T\n"
     ]
    },
    {
     "data": {
      "application/vnd.jupyter.widget-view+json": {
       "model_id": "d237badd445e472dba08a439c44073d6",
       "version_major": 2,
       "version_minor": 0
      },
      "text/plain": [
       "  0%|          | 0/1000 [00:00<?, ?it/s]"
      ]
     },
     "metadata": {},
     "output_type": "display_data"
    }
   ],
   "source": [
    "from LGNDataset import LGNDataset\n",
    "\n",
    "train_files = ['root://eospublic.cern.ch//eos/opendata/cms/datascience/HiggsToBBNtupleProducerTool/HiggsToBBNTuple_HiggsToBB_QCD_RunII_13TeV_MC/train/ntuple_merged_11.root']\n",
    "test_files = ['root://eospublic.cern.ch//eos/opendata/cms/datascience/HiggsToBBNtupleProducerTool/HiggsToBBNTuple_HiggsToBB_QCD_RunII_13TeV_MC/test/ntuple_merged_1.root']\n",
    "\n",
    "train_generator = LGNDataset(features, labels, spectators, n_events=2000, npad = ntracks,\n",
    "                             file_names=train_files)\n",
    "train_generator.process()\n",
    "\n",
    "test_generator = LGNDataset(features, labels, spectators, n_events=1000, npad = ntracks,\n",
    "                             file_names=test_files)\n",
    "test_generator.process()"
   ]
  },
  {
   "cell_type": "markdown",
   "metadata": {},
   "source": [
    "## Lorentz Group Networks\n",
    "\n",
    "The operations in Lorentz Group Networks are constructed from the Clebsch-Gordon coefficients such that they are Lorentz-equivariant. In addition, they are also constructed to be permutation invariant, in a similar manner to the Deep Sets and Interaction Network models we have just seen.\n",
    "\n",
    "We will define a DeepSets model that will take as input the 4-momentum for up to 60 tracks."
   ]
  },
  {
   "cell_type": "code",
   "execution_count": 4,
   "metadata": {},
   "outputs": [
    {
     "name": "stdout",
     "output_type": "stream",
     "text": [
      "gen_cg_dict called with maxdim = 3\n",
      "LGNModel(\n",
      "  (zonal_fns): ZonalFunctionsRel()\n",
      "  (rad_funcs): RadialFilters(\n",
      "    (rad_funcs): ModuleList(\n",
      "      (0): RadPolyTrig(\n",
      "        (linear): ModuleList(\n",
      "          (0): Linear(in_features=20, out_features=4, bias=True)\n",
      "          (1): Linear(in_features=20, out_features=4, bias=True)\n",
      "        )\n",
      "      )\n",
      "      (1): RadPolyTrig(\n",
      "        (linear): ModuleList(\n",
      "          (0): Linear(in_features=20, out_features=8, bias=True)\n",
      "          (1): Linear(in_features=20, out_features=8, bias=True)\n",
      "        )\n",
      "      )\n",
      "      (2): RadPolyTrig(\n",
      "        (linear): ModuleList(\n",
      "          (0): Linear(in_features=20, out_features=8, bias=True)\n",
      "          (1): Linear(in_features=20, out_features=8, bias=True)\n",
      "        )\n",
      "      )\n",
      "    )\n",
      "  )\n",
      "  (input_func_atom): InputLinear(\n",
      "    (lin): Linear(in_features=1, out_features=4, bias=True)\n",
      "  )\n",
      "  (lgn_cg): LGNCG(\n",
      "    (atom_levels): ModuleList(\n",
      "      (0): LGNAtomLevel(\n",
      "        (cg_aggregate): CGProduct()\n",
      "        (cg_power): CGProduct()\n",
      "        (cat_mix): CatMixReps(\n",
      "          (cat_reps): CatReps()\n",
      "          (mix_reps): MixReps(\n",
      "            (weights): ParameterDictNew(\n",
      "                ((0, 0)): Parameter containing: [torch.FloatTensor of size 2x4x6]\n",
      "                ((1, 1)): Parameter containing: [torch.FloatTensor of size 2x4x2]\n",
      "            )\n",
      "          )\n",
      "        )\n",
      "      )\n",
      "      (1): LGNAtomLevel(\n",
      "        (cg_aggregate): CGProduct()\n",
      "        (cg_power): CGProduct()\n",
      "        (cat_mix): CatMixReps(\n",
      "          (cat_reps): CatReps()\n",
      "          (mix_reps): MixReps(\n",
      "            (weights): ParameterDictNew(\n",
      "                ((0, 0)): Parameter containing: [torch.FloatTensor of size 2x4x20]\n",
      "                ((0, 2)): Parameter containing: [torch.FloatTensor of size 2x4x8]\n",
      "                ((1, 1)): Parameter containing: [torch.FloatTensor of size 2x4x20]\n",
      "                ((2, 0)): Parameter containing: [torch.FloatTensor of size 2x4x8]\n",
      "                ((2, 2)): Parameter containing: [torch.FloatTensor of size 2x4x8]\n",
      "            )\n",
      "          )\n",
      "        )\n",
      "      )\n",
      "      (2): LGNAtomLevel(\n",
      "        (cg_aggregate): CGProduct()\n",
      "        (cg_power): CGProduct()\n",
      "        (cat_mix): CatMixReps(\n",
      "          (cat_reps): CatReps()\n",
      "          (mix_reps): MixReps(\n",
      "            (weights): ParameterDictNew(\n",
      "                ((0, 0)): Parameter containing: [torch.FloatTensor of size 2x2x32]\n",
      "                ((0, 2)): Parameter containing: [torch.FloatTensor of size 2x2x40]\n",
      "                ((1, 1)): Parameter containing: [torch.FloatTensor of size 2x2x56]\n",
      "                ((2, 0)): Parameter containing: [torch.FloatTensor of size 2x2x40]\n",
      "                ((2, 2)): Parameter containing: [torch.FloatTensor of size 2x2x52]\n",
      "            )\n",
      "          )\n",
      "        )\n",
      "      )\n",
      "    )\n",
      "    (mlp_levels): ModuleList(\n",
      "      (0): CGMLP(\n",
      "        (linear): ModuleList(\n",
      "          (0): Linear(in_features=8, out_features=16, bias=True)\n",
      "          (1): Linear(in_features=16, out_features=16, bias=True)\n",
      "          (2): Linear(in_features=16, out_features=16, bias=True)\n",
      "          (3): Linear(in_features=16, out_features=8, bias=True)\n",
      "        )\n",
      "        (activations): ModuleList(\n",
      "          (0): LeakyReLU(negative_slope=0.01)\n",
      "          (1): LeakyReLU(negative_slope=0.01)\n",
      "          (2): LeakyReLU(negative_slope=0.01)\n",
      "        )\n",
      "      )\n",
      "      (1): CGMLP(\n",
      "        (linear): ModuleList(\n",
      "          (0): Linear(in_features=8, out_features=16, bias=True)\n",
      "          (1): Linear(in_features=16, out_features=16, bias=True)\n",
      "          (2): Linear(in_features=16, out_features=16, bias=True)\n",
      "          (3): Linear(in_features=16, out_features=8, bias=True)\n",
      "        )\n",
      "        (activations): ModuleList(\n",
      "          (0): LeakyReLU(negative_slope=0.01)\n",
      "          (1): LeakyReLU(negative_slope=0.01)\n",
      "          (2): LeakyReLU(negative_slope=0.01)\n",
      "        )\n",
      "      )\n",
      "      (2): CGMLP(\n",
      "        (linear): ModuleList(\n",
      "          (0): Linear(in_features=4, out_features=8, bias=True)\n",
      "          (1): Linear(in_features=8, out_features=8, bias=True)\n",
      "          (2): Linear(in_features=8, out_features=8, bias=True)\n",
      "          (3): Linear(in_features=8, out_features=4, bias=True)\n",
      "        )\n",
      "        (activations): ModuleList(\n",
      "          (0): LeakyReLU(negative_slope=0.01)\n",
      "          (1): LeakyReLU(negative_slope=0.01)\n",
      "          (2): LeakyReLU(negative_slope=0.01)\n",
      "        )\n",
      "      )\n",
      "    )\n",
      "  )\n",
      "  (get_scalars_atom): GetScalarsAtom()\n",
      "  (output_layer_atom): OutputLinear(\n",
      "    (lin): Linear(in_features=80, out_features=2, bias=True)\n",
      "  )\n",
      ")\n",
      "----------\n",
      "{'rad_funcs.rad_funcs.0.a': torch.Size([1, 1, 1, 20]), 'rad_funcs.rad_funcs.0.b': torch.Size([1, 1, 1, 20]), 'rad_funcs.rad_funcs.0.c': torch.Size([1, 1, 1, 20]), 'rad_funcs.rad_funcs.0.linear.0.weight': torch.Size([4, 20]), 'rad_funcs.rad_funcs.0.linear.0.bias': torch.Size([4]), 'rad_funcs.rad_funcs.0.linear.1.weight': torch.Size([4, 20]), 'rad_funcs.rad_funcs.0.linear.1.bias': torch.Size([4]), 'rad_funcs.rad_funcs.1.a': torch.Size([1, 1, 1, 20]), 'rad_funcs.rad_funcs.1.b': torch.Size([1, 1, 1, 20]), 'rad_funcs.rad_funcs.1.c': torch.Size([1, 1, 1, 20]), 'rad_funcs.rad_funcs.1.linear.0.weight': torch.Size([8, 20]), 'rad_funcs.rad_funcs.1.linear.0.bias': torch.Size([8]), 'rad_funcs.rad_funcs.1.linear.1.weight': torch.Size([8, 20]), 'rad_funcs.rad_funcs.1.linear.1.bias': torch.Size([8]), 'rad_funcs.rad_funcs.2.a': torch.Size([1, 1, 1, 20]), 'rad_funcs.rad_funcs.2.b': torch.Size([1, 1, 1, 20]), 'rad_funcs.rad_funcs.2.c': torch.Size([1, 1, 1, 20]), 'rad_funcs.rad_funcs.2.linear.0.weight': torch.Size([8, 20]), 'rad_funcs.rad_funcs.2.linear.0.bias': torch.Size([8]), 'rad_funcs.rad_funcs.2.linear.1.weight': torch.Size([8, 20]), 'rad_funcs.rad_funcs.2.linear.1.bias': torch.Size([8]), 'input_func_atom.lin.weight': torch.Size([4, 1]), 'input_func_atom.lin.bias': torch.Size([4]), 'lgn_cg.atom_levels.0.cat_mix.mix_reps.weights.(0, 0)': torch.Size([2, 4, 6]), 'lgn_cg.atom_levels.0.cat_mix.mix_reps.weights.(1, 1)': torch.Size([2, 4, 2]), 'lgn_cg.atom_levels.1.cat_mix.mix_reps.weights.(0, 0)': torch.Size([2, 4, 20]), 'lgn_cg.atom_levels.1.cat_mix.mix_reps.weights.(0, 2)': torch.Size([2, 4, 8]), 'lgn_cg.atom_levels.1.cat_mix.mix_reps.weights.(1, 1)': torch.Size([2, 4, 20]), 'lgn_cg.atom_levels.1.cat_mix.mix_reps.weights.(2, 0)': torch.Size([2, 4, 8]), 'lgn_cg.atom_levels.1.cat_mix.mix_reps.weights.(2, 2)': torch.Size([2, 4, 8]), 'lgn_cg.atom_levels.2.cat_mix.mix_reps.weights.(0, 0)': torch.Size([2, 2, 32]), 'lgn_cg.atom_levels.2.cat_mix.mix_reps.weights.(0, 2)': torch.Size([2, 2, 40]), 'lgn_cg.atom_levels.2.cat_mix.mix_reps.weights.(1, 1)': torch.Size([2, 2, 56]), 'lgn_cg.atom_levels.2.cat_mix.mix_reps.weights.(2, 0)': torch.Size([2, 2, 40]), 'lgn_cg.atom_levels.2.cat_mix.mix_reps.weights.(2, 2)': torch.Size([2, 2, 52]), 'lgn_cg.mlp_levels.0.linear.0.weight': torch.Size([16, 8]), 'lgn_cg.mlp_levels.0.linear.0.bias': torch.Size([16]), 'lgn_cg.mlp_levels.0.linear.1.weight': torch.Size([16, 16]), 'lgn_cg.mlp_levels.0.linear.1.bias': torch.Size([16]), 'lgn_cg.mlp_levels.0.linear.2.weight': torch.Size([16, 16]), 'lgn_cg.mlp_levels.0.linear.2.bias': torch.Size([16]), 'lgn_cg.mlp_levels.0.linear.3.weight': torch.Size([8, 16]), 'lgn_cg.mlp_levels.0.linear.3.bias': torch.Size([8]), 'lgn_cg.mlp_levels.1.linear.0.weight': torch.Size([16, 8]), 'lgn_cg.mlp_levels.1.linear.0.bias': torch.Size([16]), 'lgn_cg.mlp_levels.1.linear.1.weight': torch.Size([16, 16]), 'lgn_cg.mlp_levels.1.linear.1.bias': torch.Size([16]), 'lgn_cg.mlp_levels.1.linear.2.weight': torch.Size([16, 16]), 'lgn_cg.mlp_levels.1.linear.2.bias': torch.Size([16]), 'lgn_cg.mlp_levels.1.linear.3.weight': torch.Size([8, 16]), 'lgn_cg.mlp_levels.1.linear.3.bias': torch.Size([8]), 'lgn_cg.mlp_levels.2.linear.0.weight': torch.Size([8, 4]), 'lgn_cg.mlp_levels.2.linear.0.bias': torch.Size([8]), 'lgn_cg.mlp_levels.2.linear.1.weight': torch.Size([8, 8]), 'lgn_cg.mlp_levels.2.linear.1.bias': torch.Size([8]), 'lgn_cg.mlp_levels.2.linear.2.weight': torch.Size([8, 8]), 'lgn_cg.mlp_levels.2.linear.2.bias': torch.Size([8]), 'lgn_cg.mlp_levels.2.linear.3.weight': torch.Size([4, 8]), 'lgn_cg.mlp_levels.2.linear.3.bias': torch.Size([4]), 'output_layer_atom.lin.weight': torch.Size([2, 80]), 'output_layer_atom.lin.bias': torch.Size([2])}\n"
     ]
    }
   ],
   "source": [
    "import logging\n",
    "\n",
    "from lgn.cg_lib import CGModule, ZonalFunctionsRel, ZonalFunctions, normsq4\n",
    "from lgn.g_lib import GTau\n",
    "\n",
    "from lgn.models.lgn_cg import LGNCG\n",
    "\n",
    "from lgn.nn import RadialFilters\n",
    "from lgn.nn import InputLinear, MixReps\n",
    "from lgn.nn import OutputLinear, OutputPMLP, GetScalarsAtom\n",
    "from lgn.nn import NoLayer\n",
    "\n",
    "#ntracks = 60\n",
    "inputs = 48\n",
    "hidden1 = 64\n",
    "hidden2 = 32\n",
    "hidden3 = 16\n",
    "classify1 = 50\n",
    "outputs = 2\n",
    "\n",
    "\n",
    "class LGNModel(CGModule):\n",
    "    \"\"\"\n",
    "    Basic LGN Network. Taken from https://github.com/fizisist/LorentzGroupNetwork\n",
    "\n",
    "    Parameters\n",
    "    ----------\n",
    "    maxdim : :obj:`int` of :class:`list` of :class:`int`\n",
    "        Maximum weight in the output of CG products. (Expanded to list of\n",
    "        length :obj:`num_cg_levels`)\n",
    "    max_zf : :class:`int` of :class:`list` of :class:`int`\n",
    "        Maximum weight in the output of the spherical harmonics  (Expanded to list of\n",
    "        length :obj:`num_cg_levels`)\n",
    "    num_cg_levels : :class:`int`\n",
    "        Number of cg levels to use.\n",
    "    num_channels : :class:`int` of :class:`list` of :class:`int`\n",
    "        Number of channels that the output of each CG are mixed to (Expanded to list of\n",
    "        length :obj:`num_cg_levels`)\n",
    "    num_species : :class:`int`\n",
    "        Number of species of atoms included in the input dataset.\n",
    "    device : :class:`torch.device`\n",
    "        Device to initialize the level to\n",
    "    dtype : :class:`torch.torch.dtype`\n",
    "        Data type to initialize the level to level to\n",
    "    cg_dict : :class:`CGDict <lgn.cg_lib.CGDict>`\n",
    "        Clebsch-gordan dictionary object.\n",
    "    \"\"\"\n",
    "    def __init__(self, maxdim, max_zf, num_cg_levels, num_channels,\n",
    "                 cutoff_type, hard_cut_rad, soft_cut_rad, soft_cut_width,\n",
    "                 weight_init, level_gain, num_basis_fn,\n",
    "                 top, input, num_mpnn_layers, activation='leakyrelu', pmu_in=False, add_beams=True,\n",
    "                 scale=1, full_scalars=False, mlp=True, mlp_depth=None, mlp_width=None,\n",
    "                 device=torch.device('cpu'), dtype=None, cg_dict=None):\n",
    "        \n",
    "\n",
    "        logging.info('Initializing network!')\n",
    "        level_gain = expand_var_list(level_gain, num_cg_levels)\n",
    "\n",
    "        hard_cut_rad = expand_var_list(hard_cut_rad, num_cg_levels)\n",
    "        soft_cut_rad = expand_var_list(soft_cut_rad, num_cg_levels)\n",
    "        soft_cut_width = expand_var_list(soft_cut_width, num_cg_levels)\n",
    "\n",
    "        maxdim = expand_var_list(maxdim, num_cg_levels)\n",
    "        max_zf = expand_var_list(max_zf, num_cg_levels)\n",
    "        num_channels = expand_var_list(num_channels, num_cg_levels + 1)\n",
    "\n",
    "        logging.info('hard_cut_rad: {}'.format(hard_cut_rad))\n",
    "        logging.info('soft_cut_rad: {}'.format(soft_cut_rad))\n",
    "        logging.info('soft_cut_width: {}'.format(soft_cut_width))\n",
    "        logging.info('maxdim: {}'.format(maxdim))\n",
    "        logging.info('max_zf: {}'.format(max_zf))\n",
    "        logging.info('num_channels: {}'.format(num_channels))\n",
    "\n",
    "        super().__init__(maxdim=max(maxdim + max_zf), device=device, dtype=dtype, cg_dict=cg_dict)\n",
    "        device, dtype, cg_dict = self.device, self.dtype, self.cg_dict\n",
    "\n",
    "        logging.info('CGdict maxdim: {}'.format(cg_dict.maxdim))\n",
    "\n",
    "        self.num_cg_levels = num_cg_levels\n",
    "        self.num_channels = num_channels\n",
    "        self.scale = scale\n",
    "        self.full_scalars = full_scalars\n",
    "        self.pmu_in = pmu_in\n",
    "\n",
    "        # Set up spherical harmonics\n",
    "        if pmu_in:\n",
    "            self.zonal_fns_in = ZonalFunctions(max(max_zf), device=device, dtype=dtype, cg_dict=cg_dict)\n",
    "        self.zonal_fns = ZonalFunctionsRel(max(max_zf), device=device, dtype=dtype, cg_dict=cg_dict)\n",
    "\n",
    "        # Set up position functions, now independent of spherical harmonics\n",
    "        self.rad_funcs = RadialFilters(max_zf, num_basis_fn, num_channels, num_cg_levels, device=self.device, dtype=self.dtype)\n",
    "        tau_pos = self.rad_funcs.tau\n",
    "\n",
    "        if num_cg_levels:\n",
    "            if add_beams:\n",
    "                num_scalars_in = 2\n",
    "            else:\n",
    "                num_scalars_in = 1\n",
    "        else:\n",
    "            num_scalars_in = 202  # the second number should match the number of atoms (including beams)\n",
    "\n",
    "        num_scalars_out = num_channels[0]\n",
    "\n",
    "        if not pmu_in:\n",
    "            self.input_func_atom = InputLinear(num_scalars_in, num_scalars_out,\n",
    "                                               device=self.device, dtype=self.dtype)\n",
    "        else:\n",
    "            self.input_func_atom = MixReps(GTau({**{(0,0): num_scalars_in},**{(l,l): 1 for l in range(1, max_zf[0] + 1)}}), \n",
    "                                           GTau({(l,l): num_scalars_out for l in range(max_zf[0] + 1)}),\n",
    "                                           device=self.device, dtype=self.dtype)\n",
    "        \n",
    "        tau_in_atom = self.input_func_atom.tau\n",
    "\n",
    "        self.lgn_cg = LGNCG(maxdim, max_zf, tau_in_atom,\n",
    "                                        tau_pos, num_cg_levels, num_channels,\n",
    "                                        level_gain, weight_init, cutoff_type,\n",
    "                                        hard_cut_rad, soft_cut_rad, soft_cut_width,\n",
    "                                        mlp=mlp, mlp_depth=mlp_depth, mlp_width=mlp_width,\n",
    "                                        activation=activation, device=self.device, dtype=self.dtype, cg_dict=self.cg_dict)\n",
    "\n",
    "        tau_cg_levels_atom = self.lgn_cg.tau_levels_atom\n",
    "\n",
    "        self.get_scalars_atom = GetScalarsAtom(tau_cg_levels_atom,\n",
    "                                               device=self.device, dtype=self.dtype)\n",
    "\n",
    "        num_scalars_atom = self.get_scalars_atom.num_scalars\n",
    "\n",
    "        if top.lower().startswith('lin'):\n",
    "            self.output_layer_atom = OutputLinear(num_scalars_atom, bias=True,\n",
    "                                                  device=self.device, dtype=self.dtype)\n",
    "        elif top.lower().startswith('pmlp'):\n",
    "            self.output_layer_atom = OutputPMLP(num_scalars_atom, num_mixed=mlp_width,\n",
    "                                                  device=self.device, dtype=self.dtype)\n",
    "\n",
    "        logging.info('Model initialized. Number of parameters: {}'.format(sum(p.nelement() for p in self.parameters())))\n",
    "\n",
    "    def forward(self, data, covariance_test=False):\n",
    "        \"\"\"\n",
    "        Runs a forward pass of the network.\n",
    "\n",
    "        Parameters\n",
    "        ----------\n",
    "        data : :obj:`dict`\n",
    "            Dictionary of data to pass to the network.\n",
    "        covariance_test : :obj:`bool`, optional\n",
    "            If true, returns all of the atom-level representations twice.\n",
    "\n",
    "        Returns\n",
    "        -------\n",
    "        prediction : :obj:`torch.Tensor`\n",
    "            The output of the layer\n",
    "        \"\"\"\n",
    "        # Get and prepare the data\n",
    "        atom_scalars, atom_mask, edge_mask, atom_ps = self.prepare_input(data, self.num_cg_levels)\n",
    "\n",
    "        # Calculate spherical harmonics and radial functions\n",
    "        if self.pmu_in:\n",
    "            zonal_functions_in, _, _ = self.zonal_fns_in(atom_ps)\n",
    "            zonal_functions_in[(0, 0)] = torch.stack([atom_scalars.unsqueeze(-1),torch.zeros_like(atom_scalars.unsqueeze(-1))])\n",
    "        zonal_functions, norms, sq_norms = self.zonal_fns(atom_ps, atom_ps)\n",
    "\n",
    "        # Prepare the input reps for both the atom and edge network\n",
    "        if self.num_cg_levels > 0:\n",
    "            rad_func_levels = self.rad_funcs(norms, edge_mask * (norms != 0).byte())\n",
    "            if not self.pmu_in:\n",
    "                atom_reps_in = self.input_func_atom(atom_scalars, atom_mask)\n",
    "            else:\n",
    "                atom_reps_in = self.input_func_atom(zonal_functions_in)\n",
    "        else:\n",
    "            rad_func_levels = []\n",
    "            atom_reps_in = self.input_func_atom(atom_scalars, atom_mask)\n",
    "\n",
    "        # edge_net_in = self.input_func_edge(atom_scalars, atom_mask, edge_scalars, edge_mask, norms, sq_norms)\n",
    "\n",
    "        # Clebsch-Gordan layers central to the network\n",
    "        atoms_all = self.lgn_cg(atom_reps_in, atom_mask, rad_func_levels, zonal_functions)\n",
    "        # Construct scalars for network output\n",
    "        atom_scalars = self.get_scalars_atom(atoms_all)\n",
    "        # edge_scalars = self.get_scalars_edge(edges_all)\n",
    "        # Prediction in this case will depend only on the atom_scalars. Can make\n",
    "        # it more general here.\n",
    "        prediction = self.output_layer_atom(atom_scalars, atom_mask)\n",
    "\n",
    "        # Covariance test\n",
    "        if covariance_test:\n",
    "            return prediction, atoms_all\n",
    "        else:\n",
    "            return prediction\n",
    "\n",
    "    def prepare_input(self, data, cg_levels=True):\n",
    "        \"\"\"\n",
    "        Extracts input from data class\n",
    "\n",
    "        Parameters\n",
    "        ----------\n",
    "        data : ?????\n",
    "            Information on the state of the system.\n",
    "\n",
    "        Returns\n",
    "        -------\n",
    "        atom_scalars : :obj:`torch.Tensor`\n",
    "            Tensor of scalars for each atom.\n",
    "        atom_mask : :obj:`torch.Tensor`\n",
    "            Mask used for batching data.\n",
    "        atom_ps: :obj:`torch.Tensor`\n",
    "            Positions of the atoms\n",
    "        edge_mask: :obj:`torch.Tensor`\n",
    "            Mask used for batching data.\n",
    "        \"\"\"\n",
    "        device, dtype = self.device, self.dtype\n",
    "\n",
    "        atom_ps = data['Pmu'].to(device, dtype) * self.scale\n",
    "\n",
    "        data['Pmu'].requires_grad_(True)\n",
    "        atom_mask = data['atom_mask'].to(device, torch.uint8)\n",
    "        edge_mask = data['edge_mask'].to(device, torch.uint8)\n",
    "\n",
    "        scalars = torch.ones_like(atom_ps[:, :, 0]).unsqueeze(-1)\n",
    "        scalars = normsq4(atom_ps).abs().sqrt().unsqueeze(-1)\n",
    "\n",
    "        if 'scalars' in data.keys():\n",
    "            scalars = torch.cat([scalars, data['scalars'].to(device, dtype)], dim=-1)\n",
    "\n",
    "        if not cg_levels:\n",
    "            scalars = torch.stack(tuple(scalars for _ in range(scalars.shape[-1])), -2)\n",
    "\n",
    "        return scalars, atom_mask, edge_mask, atom_ps\n",
    "\n",
    "\n",
    "def expand_var_list(var, num_cg_levels):\n",
    "    if type(var) is list:\n",
    "        var_list = var + (num_cg_levels - len(var)) * [var[-1]]\n",
    "    elif type(var) in [float, int]:\n",
    "        var_list = [var] * num_cg_levels\n",
    "    else:\n",
    "        raise ValueError('Incorrect type {}'.format(type(var)))\n",
    "    return var_list\n",
    "\n",
    "\n",
    "model = LGNModel(maxdim=3, \n",
    "                 max_zf=1, \n",
    "                 num_cg_levels=3, \n",
    "                 num_channels=[2,4,4,2], \n",
    "                 cutoff_type=['learn'],\n",
    "                 hard_cut_rad=np.inf,\n",
    "                 soft_cut_rad=np.inf,\n",
    "                 soft_cut_width=np.inf,\n",
    "                 weight_init='randn',\n",
    "                 level_gain=[1.],\n",
    "                 num_basis_fn=10,\n",
    "                 top='linear', \n",
    "                 input='linear', \n",
    "                 num_mpnn_layers=1,\n",
    "                 mlp=True,\n",
    "                 mlp_width=2,\n",
    "                 mlp_depth=3,\n",
    "                 pmu_in=False,\n",
    "                 add_beams=False,\n",
    "                 device=device)\n",
    "\n",
    "optimizer = torch.optim.Adam(model.parameters(), lr = 1e-1)\n",
    "\n",
    "print(model)\n",
    "print('----------')\n",
    "print({l:model.state_dict()[l].shape for l in model.state_dict()})"
   ]
  },
  {
   "cell_type": "markdown",
   "metadata": {},
   "source": [
    "## Define training loop"
   ]
  },
  {
   "cell_type": "code",
   "execution_count": 5,
   "metadata": {},
   "outputs": [],
   "source": [
    "@torch.no_grad()\n",
    "def test(model, loader, total, batch_size, leave=False):\n",
    "    model.eval()\n",
    "    \n",
    "    xentropy = nn.CrossEntropyLoss(reduction='mean')\n",
    "\n",
    "    sum_loss = 0.\n",
    "    t = tqdm(enumerate(loader), total=total/batch_size, leave=leave)\n",
    "    for i, data in t:\n",
    "        #x = data['Pmu'].to(device)\n",
    "        y = data['output'].to(device)\n",
    "        y = torch.argmax(y, dim=1)\n",
    "        data['atom_mask'] = torch.ones(data['Pmu'].size()[:2], dtype=torch.uint8)\n",
    "        data['atom_mask'][data['Pmu'][:,:,0]==0] = 0\n",
    "        data['edge_mask'] = torch.ones(data['Pmu'].size(dim=1), dtype=torch.uint8)\n",
    "        batch_output = model(data)\n",
    "        batch_loss_item = xentropy(batch_output, y).item()\n",
    "        sum_loss += batch_loss_item\n",
    "        t.set_description(\"loss = %.5f\" % (batch_loss_item))\n",
    "        t.refresh() # to show immediately the update\n",
    "\n",
    "    return sum_loss/(i+1)\n",
    "\n",
    "def train(model, optimizer, loader, total, batch_size, leave=False):\n",
    "    model.train()\n",
    "    \n",
    "    xentropy = nn.CrossEntropyLoss(reduction='mean')\n",
    "\n",
    "    sum_loss = 0.\n",
    "    t = tqdm(enumerate(loader), total=total/batch_size, leave=leave)\n",
    "    for i, data in t:\n",
    "        #x = data['Pmu'].to(device)\n",
    "        y = data['output'].to(device)\n",
    "        y = torch.argmax(y, dim=1)\n",
    "        optimizer.zero_grad()\n",
    "        data['atom_mask'] = torch.ones(data['Pmu'].size()[:2], dtype=torch.uint8)\n",
    "        data['atom_mask'][data['Pmu'][:,:,0]==0] = 0\n",
    "        data['edge_mask'] = torch.ones(data['Pmu'].size(dim=1), dtype=torch.uint8)\n",
    "        batch_output = model(data)\n",
    "        batch_loss = xentropy(batch_output, y)\n",
    "        batch_loss.backward()\n",
    "        batch_loss_item = batch_loss.item()\n",
    "        t.set_description(\"loss = %.5f\" % batch_loss_item)\n",
    "        t.refresh() # to show immediately the update\n",
    "        sum_loss += batch_loss_item\n",
    "        optimizer.step()\n",
    "    \n",
    "    return sum_loss/(i+1)"
   ]
  },
  {
   "cell_type": "markdown",
   "metadata": {},
   "source": [
    "## Define training, validation, testing data generators"
   ]
  },
  {
   "cell_type": "code",
   "execution_count": 6,
   "metadata": {},
   "outputs": [],
   "source": [
    "from torch.utils.data import ConcatDataset\n",
    "from LGNDataset import PmuDataset\n",
    "train_generator_data = {c:ConcatDataset(train_generator.datas[c]) for c in train_generator.datas}\n",
    "test_generator_data = {c:ConcatDataset(test_generator.datas[c]) for c in test_generator.datas}\n",
    "train_generator_data = PmuDataset(x=train_generator_data['x'], \n",
    "                                  y=train_generator_data['y'])\n",
    "test_generator_data = PmuDataset(x=test_generator_data['x'], \n",
    "                                  y=test_generator_data['y'])"
   ]
  },
  {
   "cell_type": "code",
   "execution_count": 7,
   "metadata": {
    "scrolled": false
   },
   "outputs": [
    {
     "name": "stdout",
     "output_type": "stream",
     "text": [
      "1881\n",
      "1505\n",
      "376\n",
      "949\n"
     ]
    }
   ],
   "source": [
    "from torch.utils.data import random_split, DataLoader\n",
    "\n",
    "torch.manual_seed(0)\n",
    "valid_frac = 0.20\n",
    "train_length = len(train_generator_data)\n",
    "valid_num = int(valid_frac*train_length)\n",
    "batch_size = 32\n",
    "\n",
    "train_dataset, valid_dataset = random_split(train_generator_data, [train_length-valid_num,valid_num])\n",
    "\n",
    "def collate(items):\n",
    "    l = sum(items, [])\n",
    "    return Batch.from_data_list(l)\n",
    "\n",
    "train_loader = DataLoader(train_dataset, batch_size=batch_size, shuffle=True)\n",
    "#train_loader.collate_fn = collate\n",
    "valid_loader = DataLoader(valid_dataset, batch_size=batch_size, shuffle=False)\n",
    "#valid_loader.collate_fn = collate\n",
    "test_loader = DataLoader(test_generator_data, batch_size=batch_size, shuffle=False)\n",
    "#test_loader.collate_fn = collate\n",
    "\n",
    "train_samples = len(train_dataset)\n",
    "valid_samples = len(valid_dataset)\n",
    "test_samples = len(test_generator_data)\n",
    "print(train_length)\n",
    "print(train_samples)\n",
    "print(valid_samples)\n",
    "print(test_samples)"
   ]
  },
  {
   "cell_type": "markdown",
   "metadata": {},
   "source": [
    "## Train"
   ]
  },
  {
   "cell_type": "code",
   "execution_count": 8,
   "metadata": {},
   "outputs": [
    {
     "data": {
      "application/vnd.jupyter.widget-view+json": {
       "model_id": "05291aa83bd64c03a52537b70fb11746",
       "version_major": 2,
       "version_minor": 0
      },
      "text/plain": [
       "  0%|          | 0/2 [00:00<?, ?it/s]"
      ]
     },
     "metadata": {},
     "output_type": "display_data"
    },
    {
     "data": {
      "application/vnd.jupyter.widget-view+json": {
       "model_id": "",
       "version_major": 2,
       "version_minor": 0
      },
      "text/plain": [
       "  0%|          | 0/47.03125 [00:00<?, ?it/s]"
      ]
     },
     "metadata": {},
     "output_type": "display_data"
    },
    {
     "name": "stderr",
     "output_type": "stream",
     "text": [
      "/Users/drankin/Documents/iaifi-summer-school/book/lgn/nn/position_levels.py:140: UserWarning: where received a uint8 condition tensor. This behavior is deprecated and will be removed in a future version of PyTorch. Use a boolean condition instead. (Triggered internally at  /Users/distiller/project/conda/conda-bld/pytorch_1646756029501/work/aten/src/ATen/native/TensorCompare.cpp:333.)\n",
      "  rad_trig = torch.where(edge_mask, self.b * (torch.ones_like(self.b) + (self.c * norms).pow(2)).pow(-1) + self.a, self.zero).unsqueeze(-1)\n"
     ]
    },
    {
     "data": {
      "application/vnd.jupyter.widget-view+json": {
       "model_id": "",
       "version_major": 2,
       "version_minor": 0
      },
      "text/plain": [
       "  0%|          | 0/11.75 [00:00<?, ?it/s]"
      ]
     },
     "metadata": {},
     "output_type": "display_data"
    },
    {
     "name": "stdout",
     "output_type": "stream",
     "text": [
      "Epoch: 00, Training Loss:   723258351979158175744.0000\n",
      "           Validation Loss: 431602350075780202496.0000\n",
      "Stale epoch\n"
     ]
    },
    {
     "data": {
      "application/vnd.jupyter.widget-view+json": {
       "model_id": "21b9e4d156aa4e2c9a73cbf6a15833c6",
       "version_major": 2,
       "version_minor": 0
      },
      "text/plain": [
       "  0%|          | 0/47.03125 [00:00<?, ?it/s]"
      ]
     },
     "metadata": {},
     "output_type": "display_data"
    },
    {
     "data": {
      "application/vnd.jupyter.widget-view+json": {
       "model_id": "d5a3d254b53a403783a826e507641308",
       "version_major": 2,
       "version_minor": 0
      },
      "text/plain": [
       "  0%|          | 0/11.75 [00:00<?, ?it/s]"
      ]
     },
     "metadata": {},
     "output_type": "display_data"
    },
    {
     "name": "stdout",
     "output_type": "stream",
     "text": [
      "Epoch: 01, Training Loss:   19120506426929730027520.0000\n",
      "           Validation Loss: 340237936768752877568.0000\n",
      "Stale epoch\n"
     ]
    }
   ],
   "source": [
    "import torch.nn as nn\n",
    "import os.path as osp\n",
    "\n",
    "n_epochs = 2\n",
    "stale_epochs = 0\n",
    "best_valid_loss = 99999\n",
    "patience = 5\n",
    "t = tqdm(range(0, n_epochs))\n",
    "\n",
    "for epoch in t:\n",
    "    loss = train(model, optimizer, train_loader, train_samples, batch_size, leave=bool(epoch==n_epochs-1))\n",
    "    valid_loss = test(model, valid_loader, valid_samples, batch_size, leave=bool(epoch==n_epochs-1))\n",
    "    print('Epoch: {:02d}, Training Loss:   {:.4f}'.format(epoch, loss))\n",
    "    print('           Validation Loss: {:.4f}'.format(valid_loss))\n",
    "\n",
    "    if valid_loss < best_valid_loss:\n",
    "        best_valid_loss = valid_loss\n",
    "        modpath = osp.join('lgn_best.pth')\n",
    "        print('New best model saved to:',modpath)\n",
    "        torch.save(model.state_dict(),modpath)\n",
    "        stale_epochs = 0\n",
    "    else:\n",
    "        print('Stale epoch')\n",
    "        stale_epochs += 1\n",
    "    if stale_epochs >= patience:\n",
    "        print('Early stopping after %i stale epochs'%patience)\n",
    "        break"
   ]
  },
  {
   "cell_type": "markdown",
   "metadata": {},
   "source": [
    "## Evaluate on testing data"
   ]
  },
  {
   "cell_type": "code",
   "execution_count": 9,
   "metadata": {},
   "outputs": [
    {
     "data": {
      "application/vnd.jupyter.widget-view+json": {
       "model_id": "f7ce814902554776976f2f8f4fdb00f1",
       "version_major": 2,
       "version_minor": 0
      },
      "text/plain": [
       "  0%|          | 0/29.65625 [00:00<?, ?it/s]"
      ]
     },
     "metadata": {},
     "output_type": "display_data"
    }
   ],
   "source": [
    "model.eval()\n",
    "t = tqdm(enumerate(test_loader),total=test_samples/batch_size)\n",
    "y_test = []\n",
    "y_predict = []\n",
    "for i,data in t:\n",
    "    #x = data['Pmu'].to(device)\n",
    "    y = data['output'].to(device)\n",
    "    data['atom_mask'] = torch.ones(data['Pmu'].size()[:2], dtype=torch.uint8)\n",
    "    data['atom_mask'][data['Pmu'][:,:,0]==0] = 0\n",
    "    data['edge_mask'] = torch.ones(data['Pmu'].size(dim=1), dtype=torch.uint8)\n",
    "    batch_output = model(data)    \n",
    "    y_predict.append(batch_output.detach().cpu().numpy())\n",
    "    y_test.append(y.cpu().numpy())\n",
    "y_test = np.concatenate(y_test)\n",
    "y_predict = np.concatenate(y_predict)"
   ]
  },
  {
   "cell_type": "code",
   "execution_count": 11,
   "metadata": {},
   "outputs": [
    {
     "data": {
      "image/png": "[encoded data removed]",
      "text/plain": [
       "<Figure size 720x720 with 1 Axes>"
      ]
     },
     "metadata": {
      "needs_background": "light"
     },
     "output_type": "display_data"
    }
   ],
   "source": [
    "from sklearn.metrics import roc_curve, auc\n",
    "import matplotlib.pyplot as plt\n",
    "import mplhep as hep\n",
    "plt.style.use(hep.style.ROOT)\n",
    "# create ROC curves\n",
    "fpr_lgn, tpr_lgn, threshold_lgn = roc_curve(y_test[:,1], y_predict[:,1])\n",
    "with open('lgn_roc.npy', 'wb') as f:\n",
    "    np.save(f, fpr_lgn)\n",
    "    np.save(f, tpr_lgn)\n",
    "    np.save(f, threshold_lgn)\n",
    "    \n",
    "with open('gnn_roc.npy', 'rb') as f:\n",
    "    fpr_gnn = np.load(f)\n",
    "    tpr_gnn = np.load(f)\n",
    "    threshold_gnn = np.load(f)\n",
    "\n",
    "with open('deepset_roc.npy', 'rb') as f:\n",
    "    fpr_deepset = np.load(f)\n",
    "    tpr_deepset = np.load(f)\n",
    "    threshold_deepset = np.load(f)\n",
    "    \n",
    "# plot ROC curves\n",
    "plt.figure()\n",
    "plt.plot(tpr_deepset, fpr_deepset, lw=2.5, label=\"DeepSet, AUC = {:.1f}%\".format(auc(fpr_deepset,tpr_deepset)*100))\n",
    "plt.plot(tpr_gnn, fpr_gnn, lw=2.5, label=\"GNN, AUC = {:.1f}%\".format(auc(fpr_gnn,tpr_gnn)*100))\n",
    "plt.plot(tpr_lgn, fpr_lgn, lw=2.5, label=\"LGN, AUC = {:.1f}%\".format(auc(fpr_lgn,tpr_lgn)*100))\n",
    "plt.xlabel(r'True positive rate')\n",
    "plt.ylabel(r'False positive rate')\n",
    "plt.semilogy()\n",
    "plt.ylim(0.001, 1)\n",
    "plt.xlim(0, 1)\n",
    "plt.grid(True)\n",
    "plt.legend(loc='upper left')\n",
    "plt.show()"
   ]
  }
 ],
 "metadata": {
  "kernelspec": {
   "display_name": "Python 3 (ipykernel)",
   "language": "python",
   "name": "python3"
  },
  "language_info": {
   "codemirror_mode": {
    "name": "ipython",
    "version": 3
   },
   "file_extension": ".py",
   "mimetype": "text/x-python",
   "name": "python",
   "nbconvert_exporter": "python",
   "pygments_lexer": "ipython3",
   "version": "3.9.13"
  }
 },
 "nbformat": 4,
 "nbformat_minor": 2
}
