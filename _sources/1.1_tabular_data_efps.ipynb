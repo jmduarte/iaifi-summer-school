{
  "cells": [
    {
      "cell_type": "markdown",
      "metadata": {
        "id": "3vWF5PkHKAbI"
      },
      "source": [
        "# Tabular Data using Energy Flow Polynomials\n",
        "\n",
        "In this lab, we will treat jets as tabular data using energy flow polynomials (EFPs)"
      ]
    },
    {
      "cell_type": "code",
      "execution_count": null,
      "metadata": {
        "colab": {
          "base_uri": "https://localhost:8080/"
        },
        "id": "Tri4K4rNJ-RR",
        "outputId": "5ead3a8a-637f-45ae-9254-27723fd4cf2c"
      },
      "outputs": [],
      "source": [
        "!pip install -q jetnet mplhep"
      ]
    },
    {
      "cell_type": "markdown",
      "metadata": {
        "id": "1YbiMYLKJ28s"
      },
      "source": [
        "## Download dataset using JetNet library\n",
        "\n",
        "Download top quarks and light quark datasets using JetNet library"
      ]
    },
    {
      "cell_type": "code",
      "execution_count": null,
      "metadata": {
        "id": "VCTYXuCDRW4D"
      },
      "outputs": [],
      "source": [
        "import jetnet\n",
        "\n",
        "data_t = jetnet.datasets.JetNet(jet_type='t')\n",
        "data_t.download_and_convert_to_pt(data_dir='./', jet_type='t')\n",
        "\n",
        "data_q = jetnet.datasets.JetNet(jet_type='q')\n",
        "data_q.download_and_convert_to_pt(data_dir='./', jet_type='q')"
      ]
    },
    {
      "cell_type": "code",
      "execution_count": null,
      "metadata": {
        "id": "B_037CvpnGbR"
      },
      "outputs": [],
      "source": [
        "import torch\n",
        "n = 2000\n",
        "data_t_pt = torch.load(\"t.pt\")[:n]\n",
        "data_q_pt = torch.load(\"q.pt\")[:n]\n",
        "X_jets_pt = torch.cat([data_t_pt, data_q_pt])\n",
        "y_pt = torch.cat([torch.ones(n), torch.zeros(n)])\n",
        "y_np = y_pt.numpy()"
      ]
    },
    {
      "cell_type": "markdown",
      "metadata": {
        "id": "CNJwSlEsiQZp"
      },
      "source": [
        "## Calculate Energy Flow Polynomials"
      ]
    },
    {
      "cell_type": "code",
      "execution_count": null,
      "metadata": {
        "id": "S72U56prGqVA"
      },
      "outputs": [],
      "source": [
        "X_efps_np = jetnet.utils.efps(X_jets_pt[:,:,:3].numpy(),  efpset_args=[(\"n==\", 4), (\"d==\", 4), (\"p==\", 1)])"
      ]
    },
    {
      "cell_type": "markdown",
      "metadata": {
        "id": "Ii16xJHMjE4l"
      },
      "source": [
        "## Split data"
      ]
    },
    {
      "cell_type": "code",
      "execution_count": null,
      "metadata": {
        "id": "W9dKy2ETjJba"
      },
      "outputs": [],
      "source": [
        "from sklearn.model_selection import train_test_split\n",
        "\n",
        "X_train, X_test, y_train, y_test = train_test_split(\n",
        "    X_efps_np, y_np, stratify=y_np, random_state=42, test_size=0.25\n",
        ")"
      ]
    },
    {
      "cell_type": "markdown",
      "metadata": {
        "id": "nlVW-oyXjMrT"
      },
      "source": [
        "## Plot EFPs"
      ]
    },
    {
      "cell_type": "code",
      "execution_count": null,
      "metadata": {
        "colab": {
          "base_uri": "https://localhost:8080/",
          "height": 631
        },
        "id": "BAbX73dWc3h2",
        "outputId": "501e41e7-f16f-494b-c361-3bdb22aed072"
      },
      "outputs": [],
      "source": [
        "import matplotlib.pyplot as plt\n",
        "import mplhep as hep\n",
        "hep.style.use(hep.style.ROOT)\n",
        "import numpy as np\n",
        "\n",
        "plt.figure()\n",
        "plt.hist(X_test[:,0], weights=y_test, bins=np.arange(0, 0.004, 0.0001), alpha=0.7, label=\"top quark\")\n",
        "plt.hist(X_test[:,0], weights=(1-y_test), bins=np.arange(0, 0.004, 0.0001), alpha=0.7, label=\"light quark\")\n",
        "plt.xlabel(\"EFP\")\n",
        "plt.legend()\n",
        "plt.show()"
      ]
    },
    {
      "cell_type": "markdown",
      "metadata": {
        "id": "N5GKVK5bjQ9J"
      },
      "source": [
        "## Train Boosted Decision Tree"
      ]
    },
    {
      "cell_type": "code",
      "execution_count": null,
      "metadata": {
        "colab": {
          "base_uri": "https://localhost:8080/"
        },
        "id": "tffTsleRfKmz",
        "outputId": "feeb9c5b-4bf2-4607-9e44-b780031b21cb"
      },
      "outputs": [],
      "source": [
        "!pip install -q xgboost"
      ]
    },
    {
      "cell_type": "code",
      "execution_count": null,
      "metadata": {
        "colab": {
          "base_uri": "https://localhost:8080/"
        },
        "id": "rxl6umGKm96w",
        "outputId": "83da839b-a476-4a47-a1e4-a14bc8a657bc"
      },
      "outputs": [],
      "source": [
        "import xgboost as xgb\n",
        "\n",
        "clf = xgb.XGBClassifier(max_depth=3,\n",
        "                        n_estimators=10,\n",
        "                        n_jobs=-1)\n",
        "\n",
        "clf.fit(X_train, y_train)"
      ]
    },
    {
      "cell_type": "markdown",
      "metadata": {
        "id": "WjXnfjCkjVjH"
      },
      "source": [
        "## Evaluate BDT Performance"
      ]
    },
    {
      "cell_type": "code",
      "execution_count": null,
      "metadata": {
        "colab": {
          "base_uri": "https://localhost:8080/",
          "height": 631
        },
        "id": "9d6txR8bn1s6",
        "outputId": "2982446e-e74c-4123-ee55-d6f6eae8ae60"
      },
      "outputs": [],
      "source": [
        "from sklearn.metrics import roc_curve, auc\n",
        "y_xgb = clf.predict_proba(X_test)[:,1]\n",
        "fpr, tpr, thresholds = roc_curve(y_test, y_xgb)\n",
        "auc_t = auc(fpr, tpr)\n",
        "  \n",
        "plt.figure()\n",
        "plt.plot(fpr, tpr, label='AUC = {}'.format(auc_t))\n",
        "plt.legend()\n",
        "plt.xlabel(\"FPR\")\n",
        "plt.ylabel(\"TPR\")\n",
        "plt.show()"
      ]
    },
    {
      "cell_type": "code",
      "execution_count": null,
      "metadata": {
        "id": "5Na0MbsMtoLD"
      },
      "outputs": [],
      "source": []
    }
  ],
  "metadata": {
    "colab": {
      "collapsed_sections": [],
      "name": "lab1_tabular_data_efps",
      "provenance": []
    },
    "kernelspec": {
      "display_name": "Python 3",
      "name": "python3"
    },
    "language_info": {
      "name": "python"
    }
  },
  "nbformat": 4,
  "nbformat_minor": 0
}
