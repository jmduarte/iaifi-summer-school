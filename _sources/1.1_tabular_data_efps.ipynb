{
  "cells": [
    {
      "cell_type": "markdown",
      "metadata": {
        "id": "3vWF5PkHKAbI"
      },
      "source": [
        "# Tabular Data using Energy Flow Polynomials\n",
        "\n",
        "In this lab, we will treat jets as tabular data using energy flow polynomials (EFPs)"
      ]
    },
    {
      "cell_type": "code",
      "execution_count": 53,
      "metadata": {
        "colab": {
          "base_uri": "https://localhost:8080/"
        },
        "id": "Tri4K4rNJ-RR",
        "outputId": "5ead3a8a-637f-45ae-9254-27723fd4cf2c"
      },
      "outputs": [
        {
          "name": "stdout",
          "output_type": "stream",
          "text": [
            "Looking in indexes: https://pypi.org/simple, https://us-python.pkg.dev/colab-wheels/public/simple/\n",
            "Requirement already satisfied: jetnet in /usr/local/lib/python3.7/dist-packages (0.1.2)\n",
            "Requirement already satisfied: mplhep in /usr/local/lib/python3.7/dist-packages (0.3.26)\n",
            "Requirement already satisfied: scipy>=1.6.2 in /usr/local/lib/python3.7/dist-packages (from jetnet) (1.7.3)\n",
            "Requirement already satisfied: energyflow>=1.3.0 in /usr/local/lib/python3.7/dist-packages (from jetnet) (1.3.2)\n",
            "Requirement already satisfied: h5py>=3.0.0 in /usr/local/lib/python3.7/dist-packages (from jetnet) (3.1.0)\n",
            "Requirement already satisfied: requests in /usr/local/lib/python3.7/dist-packages (from jetnet) (2.23.0)\n",
            "Requirement already satisfied: awkward>=1.4.0 in /usr/local/lib/python3.7/dist-packages (from jetnet) (1.8.0)\n",
            "Requirement already satisfied: numpy>=1.21.0 in /usr/local/lib/python3.7/dist-packages (from jetnet) (1.21.6)\n",
            "Requirement already satisfied: tqdm in /usr/local/lib/python3.7/dist-packages (from jetnet) (4.64.0)\n",
            "Requirement already satisfied: torch>=1.8.0 in /usr/local/lib/python3.7/dist-packages (from jetnet) (1.12.0+cu113)\n",
            "Requirement already satisfied: coffea>=0.7.0 in /usr/local/lib/python3.7/dist-packages (from jetnet) (0.7.16)\n",
            "Requirement already satisfied: setuptools in /usr/local/lib/python3.7/dist-packages (from awkward>=1.4.0->jetnet) (57.4.0)\n",
            "Requirement already satisfied: numba>=0.50.0 in /usr/local/lib/python3.7/dist-packages (from coffea>=0.7.0->jetnet) (0.51.2)\n",
            "Requirement already satisfied: uproot!=4.2.4,!=4.3.0,!=4.3.1,==4.*,>=4.1.6 in /usr/local/lib/python3.7/dist-packages (from coffea>=0.7.0->jetnet) (4.3.3)\n",
            "Requirement already satisfied: uproot3>=3.14.1 in /usr/local/lib/python3.7/dist-packages (from coffea>=0.7.0->jetnet) (3.14.4)\n",
            "Requirement already satisfied: pandas in /usr/local/lib/python3.7/dist-packages (from coffea>=0.7.0->jetnet) (1.3.5)\n",
            "Requirement already satisfied: cachetools in /usr/local/lib/python3.7/dist-packages (from coffea>=0.7.0->jetnet) (4.2.4)\n",
            "Requirement already satisfied: lz4 in /usr/local/lib/python3.7/dist-packages (from coffea>=0.7.0->jetnet) (4.0.2)\n",
            "Requirement already satisfied: toml>=0.10.2 in /usr/local/lib/python3.7/dist-packages (from coffea>=0.7.0->jetnet) (0.10.2)\n",
            "Requirement already satisfied: packaging in /usr/local/lib/python3.7/dist-packages (from coffea>=0.7.0->jetnet) (21.3)\n",
            "Requirement already satisfied: hist>=2 in /usr/local/lib/python3.7/dist-packages (from coffea>=0.7.0->jetnet) (2.6.1)\n",
            "Requirement already satisfied: pyarrow>=1.0.0 in /usr/local/lib/python3.7/dist-packages (from coffea>=0.7.0->jetnet) (6.0.1)\n",
            "Requirement already satisfied: correctionlib>=2.0.0 in /usr/local/lib/python3.7/dist-packages (from coffea>=0.7.0->jetnet) (2.1.0)\n",
            "Requirement already satisfied: matplotlib>=3 in /usr/local/lib/python3.7/dist-packages (from coffea>=0.7.0->jetnet) (3.5.2)\n",
            "Requirement already satisfied: typing-extensions in /usr/local/lib/python3.7/dist-packages (from coffea>=0.7.0->jetnet) (4.1.1)\n",
            "Requirement already satisfied: uproot3-methods>=0.10.0 in /usr/local/lib/python3.7/dist-packages (from coffea>=0.7.0->jetnet) (0.10.1)\n",
            "Requirement already satisfied: fsspec in /usr/local/lib/python3.7/dist-packages (from coffea>=0.7.0->jetnet) (2022.7.1)\n",
            "Requirement already satisfied: cloudpickle>=1.2.3 in /usr/local/lib/python3.7/dist-packages (from coffea>=0.7.0->jetnet) (1.3.0)\n",
            "Requirement already satisfied: uhi>=0.2.0 in /usr/local/lib/python3.7/dist-packages (from mplhep) (0.3.1)\n",
            "Requirement already satisfied: mplhep-data in /usr/local/lib/python3.7/dist-packages (from mplhep) (0.0.3)\n",
            "Requirement already satisfied: rich in /usr/local/lib/python3.7/dist-packages (from correctionlib>=2.0.0->coffea>=0.7.0->jetnet) (12.5.1)\n",
            "Requirement already satisfied: pydantic>=1.7.3 in /usr/local/lib/python3.7/dist-packages (from correctionlib>=2.0.0->coffea>=0.7.0->jetnet) (1.9.1)\n",
            "Requirement already satisfied: six>=1.10.0 in /usr/local/lib/python3.7/dist-packages (from energyflow>=1.3.0->jetnet) (1.15.0)\n",
            "Requirement already satisfied: wasserstein>=0.3.1 in /usr/local/lib/python3.7/dist-packages (from energyflow>=1.3.0->jetnet) (1.1.0)\n",
            "Requirement already satisfied: cached-property in /usr/local/lib/python3.7/dist-packages (from h5py>=3.0.0->jetnet) (1.5.2)\n",
            "Requirement already satisfied: boost-histogram~=1.3.1 in /usr/local/lib/python3.7/dist-packages (from hist>=2->coffea>=0.7.0->jetnet) (1.3.1)\n",
            "Requirement already satisfied: histoprint>=2.2.0 in /usr/local/lib/python3.7/dist-packages (from hist>=2->coffea>=0.7.0->jetnet) (2.4.0)\n",
            "Requirement already satisfied: click>=7.0.0 in /usr/local/lib/python3.7/dist-packages (from histoprint>=2.2.0->hist>=2->coffea>=0.7.0->jetnet) (7.1.2)\n",
            "Requirement already satisfied: kiwisolver>=1.0.1 in /usr/local/lib/python3.7/dist-packages (from matplotlib>=3->coffea>=0.7.0->jetnet) (1.4.4)\n",
            "Requirement already satisfied: cycler>=0.10 in /usr/local/lib/python3.7/dist-packages (from matplotlib>=3->coffea>=0.7.0->jetnet) (0.11.0)\n",
            "Requirement already satisfied: python-dateutil>=2.7 in /usr/local/lib/python3.7/dist-packages (from matplotlib>=3->coffea>=0.7.0->jetnet) (2.8.2)\n",
            "Requirement already satisfied: pyparsing>=2.2.1 in /usr/local/lib/python3.7/dist-packages (from matplotlib>=3->coffea>=0.7.0->jetnet) (3.0.9)\n",
            "Requirement already satisfied: fonttools>=4.22.0 in /usr/local/lib/python3.7/dist-packages (from matplotlib>=3->coffea>=0.7.0->jetnet) (4.34.4)\n",
            "Requirement already satisfied: pillow>=6.2.0 in /usr/local/lib/python3.7/dist-packages (from matplotlib>=3->coffea>=0.7.0->jetnet) (7.1.2)\n",
            "Requirement already satisfied: llvmlite<0.35,>=0.34.0.dev0 in /usr/local/lib/python3.7/dist-packages (from numba>=0.50.0->coffea>=0.7.0->jetnet) (0.34.0)\n",
            "Requirement already satisfied: awkward0 in /usr/local/lib/python3.7/dist-packages (from uproot3>=3.14.1->coffea>=0.7.0->jetnet) (0.15.5)\n",
            "Requirement already satisfied: wurlitzer>=2.0.0 in /usr/local/lib/python3.7/dist-packages (from wasserstein>=0.3.1->energyflow>=1.3.0->jetnet) (3.0.2)\n",
            "Requirement already satisfied: pytz>=2017.3 in /usr/local/lib/python3.7/dist-packages (from pandas->coffea>=0.7.0->jetnet) (2022.1)\n",
            "Requirement already satisfied: chardet<4,>=3.0.2 in /usr/local/lib/python3.7/dist-packages (from requests->jetnet) (3.0.4)\n",
            "Requirement already satisfied: certifi>=2017.4.17 in /usr/local/lib/python3.7/dist-packages (from requests->jetnet) (2022.6.15)\n",
            "Requirement already satisfied: urllib3!=1.25.0,!=1.25.1,<1.26,>=1.21.1 in /usr/local/lib/python3.7/dist-packages (from requests->jetnet) (1.24.3)\n",
            "Requirement already satisfied: idna<3,>=2.5 in /usr/local/lib/python3.7/dist-packages (from requests->jetnet) (2.10)\n",
            "Requirement already satisfied: pygments<3.0.0,>=2.6.0 in /usr/local/lib/python3.7/dist-packages (from rich->correctionlib>=2.0.0->coffea>=0.7.0->jetnet) (2.6.1)\n",
            "Requirement already satisfied: commonmark<0.10.0,>=0.9.0 in /usr/local/lib/python3.7/dist-packages (from rich->correctionlib>=2.0.0->coffea>=0.7.0->jetnet) (0.9.1)\n"
          ]
        }
      ],
      "source": [
        "!pip install jetnet"
      ]
    },
    {
      "cell_type": "markdown",
      "metadata": {
        "id": "1YbiMYLKJ28s"
      },
      "source": [
        "# Download dataset using JetNet library\n",
        "\n",
        "Download top quarks and light quark datasets using JetNet library"
      ]
    },
    {
      "cell_type": "code",
      "execution_count": 62,
      "metadata": {
        "id": "VCTYXuCDRW4D"
      },
      "outputs": [],
      "source": [
        "import jetnet\n",
        "\n",
        "data_t = jetnet.datasets.JetNet(jet_type='t')\n",
        "data_t.download_and_convert_to_pt(data_dir='./', jet_type='t')\n",
        "\n",
        "data_q = jetnet.datasets.JetNet(jet_type='q')\n",
        "data_q.download_and_convert_to_pt(data_dir='./', jet_type='q')"
      ]
    },
    {
      "cell_type": "code",
      "execution_count": 93,
      "metadata": {
        "id": "B_037CvpnGbR"
      },
      "outputs": [],
      "source": [
        "import torch\n",
        "n = 2000\n",
        "data_t_pt = torch.load(\"t.pt\")[:n]\n",
        "data_q_pt = torch.load(\"q.pt\")[:n]\n",
        "X_jets_pt = torch.cat([data_t_pt, data_q_pt])\n",
        "y_pt = torch.cat([torch.ones(n), torch.zeros(n)])\n",
        "y_np = y_pt.numpy()"
      ]
    },
    {
      "cell_type": "markdown",
      "metadata": {
        "id": "CNJwSlEsiQZp"
      },
      "source": [
        "# Calculate Energy Flow Polynomials"
      ]
    },
    {
      "cell_type": "code",
      "execution_count": 99,
      "metadata": {
        "id": "S72U56prGqVA"
      },
      "outputs": [],
      "source": [
        "X_efps_np = jetnet.utils.efps(X_jets_pt[:,:,:3].numpy(),  efpset_args=[(\"n==\", 4), (\"d==\", 4), (\"p==\", 1)])"
      ]
    },
    {
      "cell_type": "markdown",
      "metadata": {
        "id": "Ii16xJHMjE4l"
      },
      "source": [
        "# Split data"
      ]
    },
    {
      "cell_type": "code",
      "execution_count": 100,
      "metadata": {
        "id": "W9dKy2ETjJba"
      },
      "outputs": [],
      "source": [
        "from sklearn.model_selection import train_test_split\n",
        "\n",
        "X_train, X_test, y_train, y_test = train_test_split(\n",
        "    X_efps_np, y_np, stratify=y_np, random_state=42, test_size=0.25\n",
        ")"
      ]
    },
    {
      "cell_type": "markdown",
      "metadata": {
        "id": "nlVW-oyXjMrT"
      },
      "source": [
        "# Plot EFPs"
      ]
    },
    {
      "cell_type": "code",
      "execution_count": 95,
      "metadata": {
        "colab": {
          "base_uri": "https://localhost:8080/",
          "height": 631
        },
        "id": "BAbX73dWc3h2",
        "outputId": "501e41e7-f16f-494b-c361-3bdb22aed072"
      },
      "outputs": [
        {
          "data": {
            "image/png": "[encoded data removed]",
            "text/plain": [
              "<Figure size 720x720 with 1 Axes>"
            ]
          },
          "metadata": {
            "needs_background": "light"
          },
          "output_type": "display_data"
        }
      ],
      "source": [
        "import matplotlib.pyplot as plt\n",
        "import mplhep as hep\n",
        "hep.style.use(hep.style.ROOT)\n",
        "import numpy as np\n",
        "\n",
        "plt.figure()\n",
        "plt.hist(X_test[:,0], weights=y_test, bins=np.arange(0, 0.004, 0.0001), alpha=0.7, label=\"top quark\")\n",
        "plt.hist(X_test[:,0], weights=(1-y_test), bins=np.arange(0, 0.004, 0.0001), alpha=0.7, label=\"light quark\")\n",
        "plt.xlabel(\"EFP\")\n",
        "plt.legend()\n",
        "plt.show()"
      ]
    },
    {
      "cell_type": "markdown",
      "metadata": {
        "id": "N5GKVK5bjQ9J"
      },
      "source": [
        "# Train Boosted Decision Tree"
      ]
    },
    {
      "cell_type": "code",
      "execution_count": 55,
      "metadata": {
        "colab": {
          "base_uri": "https://localhost:8080/"
        },
        "id": "tffTsleRfKmz",
        "outputId": "feeb9c5b-4bf2-4607-9e44-b780031b21cb"
      },
      "outputs": [
        {
          "name": "stdout",
          "output_type": "stream",
          "text": [
            "Looking in indexes: https://pypi.org/simple, https://us-python.pkg.dev/colab-wheels/public/simple/\n",
            "Requirement already satisfied: xgboost in /usr/local/lib/python3.7/dist-packages (0.90)\n",
            "Requirement already satisfied: numpy in /usr/local/lib/python3.7/dist-packages (from xgboost) (1.21.6)\n",
            "Requirement already satisfied: scipy in /usr/local/lib/python3.7/dist-packages (from xgboost) (1.7.3)\n"
          ]
        }
      ],
      "source": [
        "!pip install xgboost"
      ]
    },
    {
      "cell_type": "code",
      "execution_count": 96,
      "metadata": {
        "colab": {
          "base_uri": "https://localhost:8080/"
        },
        "id": "rxl6umGKm96w",
        "outputId": "83da839b-a476-4a47-a1e4-a14bc8a657bc"
      },
      "outputs": [
        {
          "data": {
            "text/plain": [
              "XGBClassifier(n_estimators=10, n_jobs=-1)"
            ]
          },
          "execution_count": 96,
          "metadata": {},
          "output_type": "execute_result"
        }
      ],
      "source": [
        "import xgboost as xgb\n",
        "\n",
        "clf = xgb.XGBClassifier(max_depth=3,\n",
        "                        n_estimators=10,\n",
        "                        n_jobs=-1)\n",
        "\n",
        "clf.fit(X_train, y_train)"
      ]
    },
    {
      "cell_type": "markdown",
      "metadata": {
        "id": "WjXnfjCkjVjH"
      },
      "source": [
        "# Evaluate BDT Performance"
      ]
    },
    {
      "cell_type": "code",
      "execution_count": 98,
      "metadata": {
        "colab": {
          "base_uri": "https://localhost:8080/",
          "height": 631
        },
        "id": "9d6txR8bn1s6",
        "outputId": "2982446e-e74c-4123-ee55-d6f6eae8ae60"
      },
      "outputs": [
        {
          "data": {
            "image/png": "[encoded data removed]",
            "text/plain": [
              "<Figure size 720x720 with 1 Axes>"
            ]
          },
          "metadata": {
            "needs_background": "light"
          },
          "output_type": "display_data"
        }
      ],
      "source": [
        "from sklearn.metrics import roc_curve, auc\n",
        "y_xgb = clf.predict_proba(X_test)[:,1]\n",
        "fpr, tpr, thresholds = roc_curve(y_test, y_xgb)\n",
        "auc_t = auc(fpr, tpr)\n",
        "  \n",
        "plt.figure()\n",
        "plt.plot(fpr, tpr, label='AUC = {}'.format(auc_t))\n",
        "plt.legend()\n",
        "plt.xlabel(\"FPR\")\n",
        "plt.ylabel(\"TPR\")\n",
        "plt.show()"
      ]
    },
    {
      "cell_type": "code",
      "execution_count": null,
      "metadata": {
        "id": "5Na0MbsMtoLD"
      },
      "outputs": [],
      "source": []
    }
  ],
  "metadata": {
    "colab": {
      "collapsed_sections": [],
      "name": "lab1_tabular_data_efps",
      "provenance": []
    },
    "kernelspec": {
      "display_name": "Python 3",
      "name": "python3"
    },
    "language_info": {
      "name": "python"
    }
  },
  "nbformat": 4,
  "nbformat_minor": 0
}
